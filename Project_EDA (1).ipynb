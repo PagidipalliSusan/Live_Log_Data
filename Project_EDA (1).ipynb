{
 "cells": [
  {
   "cell_type": "code",
   "execution_count": 1,
   "id": "8d74ea19-0b56-466e-ad6b-654357eccc5d",
   "metadata": {},
   "outputs": [],
   "source": [
    "#numerical python for mathematical functions\n",
    "import numpy as np\n",
    "\n",
    "#pandas library\n",
    "import pandas as pd\n",
    "\n",
    "#matplotlib library\n",
    "import matplotlib.pyplot as plt\n",
    "\n",
    "#seaborn library\n",
    "import seaborn as sns\n",
    "\n",
    "# to suppress warnings \n",
    "from warnings import filterwarnings\n",
    "filterwarnings('ignore')\n",
    "\n",
    "# display all columns of the dataframe\n",
    "pd.options.display.max_columns = None\n",
    "\n",
    "# display all rows of the dataframe\n",
    "pd.options.display.max_rows = None"
   ]
  },
  {
   "cell_type": "code",
   "execution_count": 2,
   "id": "6517a403-69c6-460f-ae5c-0a16d04ed811",
   "metadata": {},
   "outputs": [],
   "source": [
    "column_names = [\"Transaction id\", \"Transaction time\", \"Transaction type\", \"Amount\", \"Category\",\n",
    "                \"Narratives\", \"Customer id\", \"Customer firstname\", \"Customer lastName\", \"Customer gender\",\n",
    "                \"Address zipcode\", \"address_state_city_street\", \"Recipient id\",\"Recipient id_duplicate\"]"
   ]
  },
  {
   "cell_type": "code",
   "execution_count": 3,
   "id": "6f30ab7f-7580-44ba-a805-913018d5c4d9",
   "metadata": {},
   "outputs": [],
   "source": [
    "df = pd.read_csv(r\"C:\\Users\\sujana\\Downloads\\csv (1).csv\",  header=None, names=column_names)"
   ]
  },
  {
   "cell_type": "code",
   "execution_count": 4,
   "id": "3c871093-d481-4cd2-a6a6-3aa7bdae72dc",
   "metadata": {},
   "outputs": [
    {
     "data": {
      "text/html": [
       "<div>\n",
       "<style scoped>\n",
       "    .dataframe tbody tr th:only-of-type {\n",
       "        vertical-align: middle;\n",
       "    }\n",
       "\n",
       "    .dataframe tbody tr th {\n",
       "        vertical-align: top;\n",
       "    }\n",
       "\n",
       "    .dataframe thead th {\n",
       "        text-align: right;\n",
       "    }\n",
       "</style>\n",
       "<table border=\"1\" class=\"dataframe\">\n",
       "  <thead>\n",
       "    <tr style=\"text-align: right;\">\n",
       "      <th></th>\n",
       "      <th>Transaction id</th>\n",
       "      <th>Transaction time</th>\n",
       "      <th>Transaction type</th>\n",
       "      <th>Amount</th>\n",
       "      <th>Category</th>\n",
       "      <th>Narratives</th>\n",
       "      <th>Customer id</th>\n",
       "      <th>Customer firstname</th>\n",
       "      <th>Customer lastName</th>\n",
       "      <th>Customer gender</th>\n",
       "      <th>Address zipcode</th>\n",
       "      <th>address_state_city_street</th>\n",
       "      <th>Recipient id</th>\n",
       "      <th>Recipient id_duplicate</th>\n",
       "    </tr>\n",
       "  </thead>\n",
       "  <tbody>\n",
       "    <tr>\n",
       "      <th>0</th>\n",
       "      <td>d5d397fc1e864b21</td>\n",
       "      <td>19-03-2024 08:03:58 Coordinated Universal Time</td>\n",
       "      <td>Credit</td>\n",
       "      <td>284.01</td>\n",
       "      <td>travel</td>\n",
       "      <td>Coffee shop visit</td>\n",
       "      <td>41383570</td>\n",
       "      <td>Aaradhya</td>\n",
       "      <td>Sharma</td>\n",
       "      <td>Female</td>\n",
       "      <td>560034</td>\n",
       "      <td>Karnataka-Bangalore-Sun Road</td>\n",
       "      <td>71206975001</td>\n",
       "      <td>NaN</td>\n",
       "    </tr>\n",
       "    <tr>\n",
       "      <th>1</th>\n",
       "      <td>cdfbcd3097b84b21</td>\n",
       "      <td>19-03-2024 08:03:58 Coordinated Universal Time</td>\n",
       "      <td>Debit</td>\n",
       "      <td>211.27</td>\n",
       "      <td>fuel</td>\n",
       "      <td>School fees</td>\n",
       "      <td>71206975</td>\n",
       "      <td>John</td>\n",
       "      <td>Das</td>\n",
       "      <td>male</td>\n",
       "      <td>412207</td>\n",
       "      <td>Maharashtra-Pune-XYZ</td>\n",
       "      <td>60574320001</td>\n",
       "      <td>NaN</td>\n",
       "    </tr>\n",
       "    <tr>\n",
       "      <th>2</th>\n",
       "      <td>cdfbcd3097b84b21</td>\n",
       "      <td>19-03-2024 08:03:58 Coordinated Universal Time</td>\n",
       "      <td>Credit</td>\n",
       "      <td>211.27</td>\n",
       "      <td>fuel</td>\n",
       "      <td>School fees</td>\n",
       "      <td>60574320</td>\n",
       "      <td>LucÃ­a</td>\n",
       "      <td>LÃ³pez</td>\n",
       "      <td>Female</td>\n",
       "      <td>345676</td>\n",
       "      <td>Spain-Madrid-Main Street</td>\n",
       "      <td>71206975001</td>\n",
       "      <td>NaN</td>\n",
       "    </tr>\n",
       "    <tr>\n",
       "      <th>3</th>\n",
       "      <td>986423c2abd84cd7</td>\n",
       "      <td>19-03-2024 08:03:59 Coordinated Universal Time</td>\n",
       "      <td>Debit</td>\n",
       "      <td>129.46</td>\n",
       "      <td>entertainment</td>\n",
       "      <td>Dinner with friends</td>\n",
       "      <td>71206975</td>\n",
       "      <td>John</td>\n",
       "      <td>Das</td>\n",
       "      <td>male</td>\n",
       "      <td>412207</td>\n",
       "      <td>Maharashtra-Pune-XYZ</td>\n",
       "      <td>99043963002</td>\n",
       "      <td>NaN</td>\n",
       "    </tr>\n",
       "    <tr>\n",
       "      <th>4</th>\n",
       "      <td>d68aea44107d40aa</td>\n",
       "      <td>19-03-2024 08:03:59 Coordinated Universal Time</td>\n",
       "      <td>Debit</td>\n",
       "      <td>301.47</td>\n",
       "      <td>fuel</td>\n",
       "      <td>Gym membership fee</td>\n",
       "      <td>71206975</td>\n",
       "      <td>John</td>\n",
       "      <td>Das</td>\n",
       "      <td>male</td>\n",
       "      <td>412207</td>\n",
       "      <td>Maharashtra-Pune-XYZ</td>\n",
       "      <td>44396166001</td>\n",
       "      <td>NaN</td>\n",
       "    </tr>\n",
       "  </tbody>\n",
       "</table>\n",
       "</div>"
      ],
      "text/plain": [
       "     Transaction id                                Transaction time  \\\n",
       "0  d5d397fc1e864b21  19-03-2024 08:03:58 Coordinated Universal Time   \n",
       "1  cdfbcd3097b84b21  19-03-2024 08:03:58 Coordinated Universal Time   \n",
       "2  cdfbcd3097b84b21  19-03-2024 08:03:58 Coordinated Universal Time   \n",
       "3  986423c2abd84cd7  19-03-2024 08:03:59 Coordinated Universal Time   \n",
       "4  d68aea44107d40aa  19-03-2024 08:03:59 Coordinated Universal Time   \n",
       "\n",
       "  Transaction type  Amount       Category           Narratives  Customer id  \\\n",
       "0           Credit  284.01         travel    Coffee shop visit     41383570   \n",
       "1            Debit  211.27           fuel          School fees     71206975   \n",
       "2           Credit  211.27           fuel          School fees     60574320   \n",
       "3            Debit  129.46  entertainment  Dinner with friends     71206975   \n",
       "4            Debit  301.47           fuel   Gym membership fee     71206975   \n",
       "\n",
       "  Customer firstname Customer lastName Customer gender  Address zipcode  \\\n",
       "0           Aaradhya            Sharma          Female           560034   \n",
       "1               John               Das            male           412207   \n",
       "2             LucÃ­a            LÃ³pez          Female           345676   \n",
       "3               John               Das            male           412207   \n",
       "4               John               Das            male           412207   \n",
       "\n",
       "      address_state_city_street Recipient id  Recipient id_duplicate  \n",
       "0  Karnataka-Bangalore-Sun Road  71206975001                     NaN  \n",
       "1          Maharashtra-Pune-XYZ  60574320001                     NaN  \n",
       "2      Spain-Madrid-Main Street  71206975001                     NaN  \n",
       "3          Maharashtra-Pune-XYZ  99043963002                     NaN  \n",
       "4          Maharashtra-Pune-XYZ  44396166001                     NaN  "
      ]
     },
     "execution_count": 4,
     "metadata": {},
     "output_type": "execute_result"
    }
   ],
   "source": [
    "df.head()"
   ]
  },
  {
   "cell_type": "code",
   "execution_count": 5,
   "id": "35f0f5f4-6d7b-451b-a7ba-e15668c63d15",
   "metadata": {},
   "outputs": [
    {
     "data": {
      "text/plain": [
       "(102274, 14)"
      ]
     },
     "execution_count": 5,
     "metadata": {},
     "output_type": "execute_result"
    }
   ],
   "source": [
    "df.shape"
   ]
  },
  {
   "cell_type": "code",
   "execution_count": 6,
   "id": "bfe878a8-5451-48a5-be79-b96ec37fb079",
   "metadata": {},
   "outputs": [
    {
     "name": "stdout",
     "output_type": "stream",
     "text": [
      "<class 'pandas.core.frame.DataFrame'>\n",
      "RangeIndex: 102274 entries, 0 to 102273\n",
      "Data columns (total 14 columns):\n",
      " #   Column                     Non-Null Count   Dtype  \n",
      "---  ------                     --------------   -----  \n",
      " 0   Transaction id             102274 non-null  object \n",
      " 1   Transaction time           102274 non-null  object \n",
      " 2   Transaction type           102274 non-null  object \n",
      " 3   Amount                     102274 non-null  float64\n",
      " 4   Category                   102196 non-null  object \n",
      " 5   Narratives                 102273 non-null  object \n",
      " 6   Customer id                102274 non-null  int64  \n",
      " 7   Customer firstname         102274 non-null  object \n",
      " 8   Customer lastName          102274 non-null  object \n",
      " 9   Customer gender            102274 non-null  object \n",
      " 10  Address zipcode            102274 non-null  int64  \n",
      " 11  address_state_city_street  102274 non-null  object \n",
      " 12  Recipient id               102209 non-null  object \n",
      " 13  Recipient id_duplicate     1805 non-null    float64\n",
      "dtypes: float64(2), int64(2), object(10)\n",
      "memory usage: 10.9+ MB\n"
     ]
    }
   ],
   "source": [
    "df.info()"
   ]
  },
  {
   "cell_type": "code",
   "execution_count": 7,
   "id": "d7a1c7a3-ed11-4983-b9b9-cd00d0e45837",
   "metadata": {},
   "outputs": [
    {
     "name": "stdout",
     "output_type": "stream",
     "text": [
      "<class 'str'>\n"
     ]
    }
   ],
   "source": [
    "print(type(df['Recipient id'][0]))"
   ]
  },
  {
   "cell_type": "code",
   "execution_count": 8,
   "id": "6a5438bd-240e-404e-a987-d22069ea2204",
   "metadata": {},
   "outputs": [],
   "source": [
    "for index, row in df.iterrows():\n",
    "    # Check if the value in 'Recipient id' is alpha (non-numeric)\n",
    "    if not str(row['Recipient id']).isdigit():\n",
    "        # Combine the 'address_state_city_street' and 'Recipient id' with a hyphen\n",
    "        new_address = f\"{row['address_state_city_street']}-{row['Recipient id']}\"\n",
    "        # Update the 'address_state_city_street' column with the new address\n",
    "        df.at[index, 'address_state_city_street'] = new_address\n",
    "        # Remove the 'Recipient id' value\n",
    "        df.at[index, 'Recipient id'] = None"
   ]
  },
  {
   "cell_type": "code",
   "execution_count": 12,
   "id": "bb958a26-ec3d-4899-9a2f-a3ccddf604fb",
   "metadata": {},
   "outputs": [],
   "source": [
    "df['Recipient id'] = df.apply(lambda row: row['Recipient id_duplicate'] if pd.isnull(row['Recipient id']) else row['Recipient id'], axis=1)\n",
    "\n",
    "# Drop the 'Recipient id_duplicate' column\n",
    "df.drop(columns=['Recipient id_duplicate'], inplace=True)"
   ]
  },
  {
   "cell_type": "code",
   "execution_count": 16,
   "id": "e32b9dd4-6b90-4dee-8234-9cf0c8418864",
   "metadata": {},
   "outputs": [],
   "source": [
    "# Convert 'Recipient id' column to numeric data type\n",
    "df['Recipient id'] = pd.to_numeric(df['Recipient id'], errors='coerce', downcast='integer')"
   ]
  },
  {
   "cell_type": "code",
   "execution_count": 17,
   "id": "c68dcccf-37e9-4242-bfee-792f05c85a5b",
   "metadata": {},
   "outputs": [
    {
     "name": "stdout",
     "output_type": "stream",
     "text": [
      "<class 'pandas.core.frame.DataFrame'>\n",
      "RangeIndex: 102274 entries, 0 to 102273\n",
      "Data columns (total 13 columns):\n",
      " #   Column                     Non-Null Count   Dtype  \n",
      "---  ------                     --------------   -----  \n",
      " 0   Transaction id             102274 non-null  object \n",
      " 1   Transaction time           102274 non-null  object \n",
      " 2   Transaction type           102274 non-null  object \n",
      " 3   Amount                     102274 non-null  float64\n",
      " 4   Category                   102196 non-null  object \n",
      " 5   Narratives                 102273 non-null  object \n",
      " 6   Customer id                102274 non-null  int64  \n",
      " 7   Customer firstname         102274 non-null  object \n",
      " 8   Customer lastName          102274 non-null  object \n",
      " 9   Customer gender            102274 non-null  object \n",
      " 10  Address zipcode            102274 non-null  int64  \n",
      " 11  address_state_city_street  102274 non-null  object \n",
      " 12  Recipient id               102274 non-null  int64  \n",
      "dtypes: float64(1), int64(3), object(9)\n",
      "memory usage: 10.1+ MB\n"
     ]
    }
   ],
   "source": [
    "df.info()"
   ]
  },
  {
   "cell_type": "code",
   "execution_count": 18,
   "id": "7888301e-0cd0-4f86-b647-4503a50a6a06",
   "metadata": {},
   "outputs": [
    {
     "data": {
      "text/plain": [
       "(102274, 13)"
      ]
     },
     "execution_count": 18,
     "metadata": {},
     "output_type": "execute_result"
    }
   ],
   "source": [
    "df.shape"
   ]
  },
  {
   "cell_type": "code",
   "execution_count": 14,
   "id": "61e36ae7-95e9-4a66-a666-ff26b68d16b3",
   "metadata": {},
   "outputs": [],
   "source": [
    "import os\n",
    "\n",
    "# Get the current working directory\n",
    "cwd = os.getcwd()\n",
    "\n",
    "# Specify the full path to save the Excel file\n",
    "full_path = os.path.join(cwd, 'output6.xlsx')\n",
    "\n",
    "# Save DataFrame to an Excel file\n",
    "df.to_excel(full_path, index=False)\n"
   ]
  }
 ],
 "metadata": {
  "kernelspec": {
   "display_name": "Python 3 (ipykernel)",
   "language": "python",
   "name": "python3"
  },
  "language_info": {
   "codemirror_mode": {
    "name": "ipython",
    "version": 3
   },
   "file_extension": ".py",
   "mimetype": "text/x-python",
   "name": "python",
   "nbconvert_exporter": "python",
   "pygments_lexer": "ipython3",
   "version": "3.12.2"
  }
 },
 "nbformat": 4,
 "nbformat_minor": 5
}
